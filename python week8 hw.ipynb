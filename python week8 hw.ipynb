{
 "cells": [
  {
   "cell_type": "code",
   "execution_count": 16,
   "metadata": {},
   "outputs": [],
   "source": [
    "import numpy as np\n",
    "import pandas as pd\n",
    "from sklearn.model_selection import train_test_split\n",
    "from sklearn.preprocessing import StandardScaler\n",
    "from sklearn.preprocessing import Normalizer, OneHotEncoder \n",
    "from sklearn.impute import SimpleImputer\n",
    "from sklearn.metrics import mean_squared_error\n",
    "from sklearn.compose import ColumnTransformer\n",
    "from sklearn.datasets import fetch_openml\n",
    "from sklearn.pipeline import Pipeline\n",
    "from sklearn.ensemble import RandomForestClassifier\n",
    "from sklearn.impute import SimpleImputer\n",
    "from sklearn.linear_model import LogisticRegression\n",
    "from sklearn.model_selection import  GridSearchCV\n",
    "from sklearn.metrics import accuracy_score, classification_report\n",
    "np.random.seed(0)\n"
   ]
  },
  {
   "cell_type": "code",
   "execution_count": 2,
   "metadata": {},
   "outputs": [
    {
     "data": {
      "text/html": [
       "<div>\n",
       "<style scoped>\n",
       "    .dataframe tbody tr th:only-of-type {\n",
       "        vertical-align: middle;\n",
       "    }\n",
       "\n",
       "    .dataframe tbody tr th {\n",
       "        vertical-align: top;\n",
       "    }\n",
       "\n",
       "    .dataframe thead th {\n",
       "        text-align: right;\n",
       "    }\n",
       "</style>\n",
       "<table border=\"1\" class=\"dataframe\">\n",
       "  <thead>\n",
       "    <tr style=\"text-align: right;\">\n",
       "      <th></th>\n",
       "      <th>age</th>\n",
       "      <th>workclass</th>\n",
       "      <th>fnlwgt</th>\n",
       "      <th>education</th>\n",
       "      <th>education-num</th>\n",
       "      <th>marital-status</th>\n",
       "      <th>occupation</th>\n",
       "      <th>relationship</th>\n",
       "      <th>race</th>\n",
       "      <th>sex</th>\n",
       "      <th>capital-gain</th>\n",
       "      <th>capital-loss</th>\n",
       "      <th>hours-per-week</th>\n",
       "      <th>native-country</th>\n",
       "      <th>income</th>\n",
       "    </tr>\n",
       "  </thead>\n",
       "  <tbody>\n",
       "    <tr>\n",
       "      <th>0</th>\n",
       "      <td>39</td>\n",
       "      <td>State-gov</td>\n",
       "      <td>77516</td>\n",
       "      <td>Bachelors</td>\n",
       "      <td>13</td>\n",
       "      <td>Never-married</td>\n",
       "      <td>Adm-clerical</td>\n",
       "      <td>Not-in-family</td>\n",
       "      <td>White</td>\n",
       "      <td>Male</td>\n",
       "      <td>2174</td>\n",
       "      <td>0</td>\n",
       "      <td>40</td>\n",
       "      <td>United-States</td>\n",
       "      <td>&lt;=50K</td>\n",
       "    </tr>\n",
       "    <tr>\n",
       "      <th>1</th>\n",
       "      <td>50</td>\n",
       "      <td>Self-emp-not-inc</td>\n",
       "      <td>83311</td>\n",
       "      <td>Bachelors</td>\n",
       "      <td>13</td>\n",
       "      <td>Married-civ-spouse</td>\n",
       "      <td>Exec-managerial</td>\n",
       "      <td>Husband</td>\n",
       "      <td>White</td>\n",
       "      <td>Male</td>\n",
       "      <td>0</td>\n",
       "      <td>0</td>\n",
       "      <td>13</td>\n",
       "      <td>United-States</td>\n",
       "      <td>&lt;=50K</td>\n",
       "    </tr>\n",
       "    <tr>\n",
       "      <th>2</th>\n",
       "      <td>38</td>\n",
       "      <td>Private</td>\n",
       "      <td>215646</td>\n",
       "      <td>HS-grad</td>\n",
       "      <td>9</td>\n",
       "      <td>Divorced</td>\n",
       "      <td>Handlers-cleaners</td>\n",
       "      <td>Not-in-family</td>\n",
       "      <td>White</td>\n",
       "      <td>Male</td>\n",
       "      <td>0</td>\n",
       "      <td>0</td>\n",
       "      <td>40</td>\n",
       "      <td>United-States</td>\n",
       "      <td>&lt;=50K</td>\n",
       "    </tr>\n",
       "    <tr>\n",
       "      <th>3</th>\n",
       "      <td>53</td>\n",
       "      <td>Private</td>\n",
       "      <td>234721</td>\n",
       "      <td>11th</td>\n",
       "      <td>7</td>\n",
       "      <td>Married-civ-spouse</td>\n",
       "      <td>Handlers-cleaners</td>\n",
       "      <td>Husband</td>\n",
       "      <td>Black</td>\n",
       "      <td>Male</td>\n",
       "      <td>0</td>\n",
       "      <td>0</td>\n",
       "      <td>40</td>\n",
       "      <td>United-States</td>\n",
       "      <td>&lt;=50K</td>\n",
       "    </tr>\n",
       "    <tr>\n",
       "      <th>4</th>\n",
       "      <td>28</td>\n",
       "      <td>Private</td>\n",
       "      <td>338409</td>\n",
       "      <td>Bachelors</td>\n",
       "      <td>13</td>\n",
       "      <td>Married-civ-spouse</td>\n",
       "      <td>Prof-specialty</td>\n",
       "      <td>Wife</td>\n",
       "      <td>Black</td>\n",
       "      <td>Female</td>\n",
       "      <td>0</td>\n",
       "      <td>0</td>\n",
       "      <td>40</td>\n",
       "      <td>Cuba</td>\n",
       "      <td>&lt;=50K</td>\n",
       "    </tr>\n",
       "  </tbody>\n",
       "</table>\n",
       "</div>"
      ],
      "text/plain": [
       "   age          workclass   fnlwgt   education   education-num  \\\n",
       "0   39          State-gov    77516   Bachelors              13   \n",
       "1   50   Self-emp-not-inc    83311   Bachelors              13   \n",
       "2   38            Private   215646     HS-grad               9   \n",
       "3   53            Private   234721        11th               7   \n",
       "4   28            Private   338409   Bachelors              13   \n",
       "\n",
       "        marital-status          occupation    relationship    race      sex  \\\n",
       "0        Never-married        Adm-clerical   Not-in-family   White     Male   \n",
       "1   Married-civ-spouse     Exec-managerial         Husband   White     Male   \n",
       "2             Divorced   Handlers-cleaners   Not-in-family   White     Male   \n",
       "3   Married-civ-spouse   Handlers-cleaners         Husband   Black     Male   \n",
       "4   Married-civ-spouse      Prof-specialty            Wife   Black   Female   \n",
       "\n",
       "    capital-gain   capital-loss   hours-per-week  native-country  income  \n",
       "0           2174              0               40   United-States   <=50K  \n",
       "1              0              0               13   United-States   <=50K  \n",
       "2              0              0               40   United-States   <=50K  \n",
       "3              0              0               40   United-States   <=50K  \n",
       "4              0              0               40            Cuba   <=50K  "
      ]
     },
     "execution_count": 2,
     "metadata": {},
     "output_type": "execute_result"
    }
   ],
   "source": [
    "df=pd.read_csv('income_evaluation.csv')\n",
    "df.head()"
   ]
  },
  {
   "cell_type": "code",
   "execution_count": 3,
   "metadata": {},
   "outputs": [
    {
     "name": "stdout",
     "output_type": "stream",
     "text": [
      "<class 'pandas.core.frame.DataFrame'>\n",
      "RangeIndex: 32561 entries, 0 to 32560\n",
      "Data columns (total 15 columns):\n",
      " #   Column           Non-Null Count  Dtype \n",
      "---  ------           --------------  ----- \n",
      " 0   age              32561 non-null  int64 \n",
      " 1    workclass       32561 non-null  object\n",
      " 2    fnlwgt          32561 non-null  int64 \n",
      " 3    education       32561 non-null  object\n",
      " 4    education-num   32561 non-null  int64 \n",
      " 5    marital-status  32561 non-null  object\n",
      " 6    occupation      32561 non-null  object\n",
      " 7    relationship    32561 non-null  object\n",
      " 8    race            32561 non-null  object\n",
      " 9    sex             32561 non-null  object\n",
      " 10   capital-gain    32561 non-null  int64 \n",
      " 11   capital-loss    32561 non-null  int64 \n",
      " 12   hours-per-week  32561 non-null  int64 \n",
      " 13   native-country  32561 non-null  object\n",
      " 14   income          32561 non-null  object\n",
      "dtypes: int64(6), object(9)\n",
      "memory usage: 3.7+ MB\n"
     ]
    }
   ],
   "source": [
    "df.info()"
   ]
  },
  {
   "cell_type": "code",
   "execution_count": 4,
   "metadata": {},
   "outputs": [
    {
     "data": {
      "text/plain": [
       "age                0\n",
       " workclass         0\n",
       " fnlwgt            0\n",
       " education         0\n",
       " education-num     0\n",
       " marital-status    0\n",
       " occupation        0\n",
       " relationship      0\n",
       " race              0\n",
       " sex               0\n",
       " capital-gain      0\n",
       " capital-loss      0\n",
       " hours-per-week    0\n",
       " native-country    0\n",
       " income            0\n",
       "dtype: int64"
      ]
     },
     "execution_count": 4,
     "metadata": {},
     "output_type": "execute_result"
    }
   ],
   "source": [
    "df.isnull().sum()"
   ]
  },
  {
   "cell_type": "code",
   "execution_count": 5,
   "metadata": {},
   "outputs": [
    {
     "data": {
      "text/plain": [
       "Index(['age', 'workclass', 'fnlwgt', 'education', 'education-num', 'marital',\n",
       "       'occupation', 'relationship', 'race', 'sex', ' capital-gain',\n",
       "       'capital loss', 'hours per week', 'country', 'income'],\n",
       "      dtype='object')"
      ]
     },
     "execution_count": 5,
     "metadata": {},
     "output_type": "execute_result"
    }
   ],
   "source": [
    "df=df.replace(' ?', np.nan).dropna()\n",
    "df.rename(columns={' workclass':'workclass',\n",
    " ' fnlwgt': 'fnlwgt',' education':'education',\n",
    "  ' education-num':'education-num',\n",
    "  ' marital-status':'marital-status',\n",
    "  ' occupation':  'occupation', \n",
    "  ' relationship':'relationship', \n",
    "  ' race':'race', \n",
    "  ' sex':'sex',\n",
    "  'capital-gain': 'capital gain', \n",
    "  ' capital-loss': 'capital loss', \n",
    "  ' native-country': 'country',\n",
    "  ' hours-per-week': 'hours per week',\n",
    "  ' marital-status': 'marital',\n",
    "   \" income\": 'income'}, inplace=True)\n",
    "df.columns"
   ]
  },
  {
   "cell_type": "code",
   "execution_count": 6,
   "metadata": {},
   "outputs": [],
   "source": [
    "df[\"target\"] = np.where(df[\"income\"] == ' <=50K', 0, 1)\n",
    "df.drop(\"income\",axis=1, inplace=True)"
   ]
  },
  {
   "cell_type": "code",
   "execution_count": 7,
   "metadata": {},
   "outputs": [
    {
     "data": {
      "text/plain": [
       "(21113, 14)"
      ]
     },
     "execution_count": 7,
     "metadata": {},
     "output_type": "execute_result"
    }
   ],
   "source": [
    "X = df.iloc[:,:-1]\n",
    "y = df[\"target\"]\n",
    "\n",
    "X_train, X_test, y_train, y_test = train_test_split(X, y, test_size=0.3)\n",
    "X_train.shape"
   ]
  },
  {
   "cell_type": "code",
   "execution_count": 8,
   "metadata": {},
   "outputs": [],
   "source": [
    "#df = df.apply(lambda x:x.fillna(x.value_counts().index[0]))"
   ]
  },
  {
   "cell_type": "code",
   "execution_count": 9,
   "metadata": {},
   "outputs": [
    {
     "data": {
      "text/plain": [
       "age                int64\n",
       "workclass         object\n",
       "fnlwgt             int64\n",
       "education         object\n",
       "education-num      int64\n",
       "marital           object\n",
       "occupation        object\n",
       "relationship      object\n",
       "race              object\n",
       "sex               object\n",
       " capital-gain      int64\n",
       "capital loss       int64\n",
       "hours per week     int64\n",
       "country           object\n",
       "dtype: object"
      ]
     },
     "execution_count": 9,
     "metadata": {},
     "output_type": "execute_result"
    }
   ],
   "source": [
    "X.dtypes"
   ]
  },
  {
   "cell_type": "code",
   "execution_count": 10,
   "metadata": {},
   "outputs": [
    {
     "name": "stdout",
     "output_type": "stream",
     "text": [
      "Categorical columns are: ['workclass', 'education', 'marital', 'occupation', 'relationship', 'race', 'sex', 'country']\n",
      "Numerical columns are: ['age', 'fnlwgt', 'education-num', ' capital-gain', 'capital loss', 'hours per week']\n"
     ]
    }
   ],
   "source": [
    "categorical = list(X.select_dtypes('object').columns)\n",
    "print(f\"Categorical columns are: {categorical}\")\n",
    "numerical = list(X.select_dtypes('number').columns)\n",
    "print(f\"Numerical columns are: {numerical}\")"
   ]
  },
  {
   "cell_type": "code",
   "execution_count": 11,
   "metadata": {},
   "outputs": [],
   "source": [
    "numeric_transformer = Pipeline(steps=[('scaler', StandardScaler())])\n",
    "categoric_transformer = Pipeline(steps=[('encoder', OneHotEncoder(handle_unknown='ignore'))])\n",
    "\n",
    "preprocessor = ColumnTransformer(transformers=[('numeric_preprocessor', numeric_transformer, numerical), \n",
    "                                              ('categorical_preprocessor', categoric_transformer, categorical)])"
   ]
  },
  {
   "cell_type": "code",
   "execution_count": 13,
   "metadata": {},
   "outputs": [],
   "source": [
    "pipeline_log = Pipeline(steps=[('preprocessor', preprocessor), \n",
    "                           ('LogRegressor', LogisticRegression(solver='lbfgs', multi_class='auto', max_iter=1000))])"
   ]
  },
  {
   "cell_type": "code",
   "execution_count": 14,
   "metadata": {},
   "outputs": [
    {
     "name": "stdout",
     "output_type": "stream",
     "text": [
      "              precision    recall  f1-score   support\n",
      "\n",
      "           0       0.87      0.92      0.90      6764\n",
      "           1       0.73      0.60      0.66      2285\n",
      "\n",
      "    accuracy                           0.84      9049\n",
      "   macro avg       0.80      0.76      0.78      9049\n",
      "weighted avg       0.84      0.84      0.84      9049\n",
      "\n"
     ]
    }
   ],
   "source": [
    "log_model = pipeline_log.fit(X_train, y_train)\n",
    "prediction_log = log_model.predict(X_test)\n",
    "cl_report_log = classification_report(y_test, prediction_log)\n",
    "print(cl_report_log)"
   ]
  },
  {
   "cell_type": "code",
   "execution_count": 17,
   "metadata": {},
   "outputs": [
    {
     "name": "stdout",
     "output_type": "stream",
     "text": [
      "              precision    recall  f1-score   support\n",
      "\n",
      "           0       0.88      0.92      0.90      6764\n",
      "           1       0.73      0.62      0.67      2285\n",
      "\n",
      "    accuracy                           0.84      9049\n",
      "   macro avg       0.80      0.77      0.78      9049\n",
      "weighted avg       0.84      0.84      0.84      9049\n",
      "\n"
     ]
    }
   ],
   "source": [
    "pipeline_random = Pipeline(steps=[('preprocessor', preprocessor), \n",
    "                           ('ForestClassifier', RandomForestClassifier())])\n",
    "random_model = pipeline_random.fit(X_train, y_train)\n",
    "prediction_random = random_model.predict(X_test)\n",
    "cl_report_random = classification_report(y_test, prediction_random)\n",
    "print(cl_report_random)"
   ]
  },
  {
   "cell_type": "code",
   "execution_count": null,
   "metadata": {},
   "outputs": [],
   "source": []
  },
  {
   "cell_type": "code",
   "execution_count": null,
   "metadata": {},
   "outputs": [],
   "source": []
  },
  {
   "cell_type": "code",
   "execution_count": null,
   "metadata": {},
   "outputs": [],
   "source": []
  },
  {
   "cell_type": "code",
   "execution_count": null,
   "metadata": {},
   "outputs": [],
   "source": [
    "# numerical_transformer = Pipeline(\n",
    "#     steps=[(\"imputer\", SimpleImputer(strategy=\"median\")), (\"scaler\", StandardScaler())]\n",
    "# )\n",
    "# categorical_transformer = OneHotEncoder(handle_unknown=\"ignore\")\n",
    "\n",
    "# preprocessor = ColumnTransformer(\n",
    "#     transformers=[\n",
    "#         (\"num\", numerical_transformer, numerical),\n",
    "#         (\"cat\", categorical_transformer, categorical),\n",
    "#         (\"dummy_col\", OneHotEncoder(categories=[['Male', 'Female'],\n",
    "#                                            ['Yes', 'No'],\n",
    "#                                             ['0','1', '2','3+'],\n",
    "#                                             ['Graduate', 'Not Graduate'],\n",
    "#                                             ['No', 'Yes'],\n",
    "#                                             ['Semiurban', 'Urban', 'Rural']]), [0,1,2,3,4,10]),\n",
    "#       (\"norm\", Normalizer(norm='l1'), [5,6,7,8,9])\n",
    "#     ]\n",
    "# )\n",
    "\n"
   ]
  },
  {
   "cell_type": "code",
   "execution_count": null,
   "metadata": {},
   "outputs": [
    {
     "ename": "ValueError",
     "evalue": "invalid literal for int() with base 10: 'Male'",
     "output_type": "error",
     "traceback": [
      "\u001b[1;31m---------------------------------------------------------------------------\u001b[0m",
      "\u001b[1;31mValueError\u001b[0m                                Traceback (most recent call last)",
      "\u001b[1;32mc:\\Users\\Admin\\Desktop\\Bootcamp\\Python\\WEEK 8\\Homework\\python week8 hw.ipynb Cell 14'\u001b[0m in \u001b[0;36m<cell line: 5>\u001b[1;34m()\u001b[0m\n\u001b[0;32m      <a href='vscode-notebook-cell:/c%3A/Users/Admin/Desktop/Bootcamp/Python/WEEK%208/Homework/python%20week8%20hw.ipynb#ch0000020?line=0'>1</a>\u001b[0m clf \u001b[39m=\u001b[39m Pipeline(\n\u001b[0;32m      <a href='vscode-notebook-cell:/c%3A/Users/Admin/Desktop/Bootcamp/Python/WEEK%208/Homework/python%20week8%20hw.ipynb#ch0000020?line=1'>2</a>\u001b[0m     steps\u001b[39m=\u001b[39m[(\u001b[39m'\u001b[39m\u001b[39mnumerical_transformer\u001b[39m\u001b[39m'\u001b[39m, numerical_transformer),(\u001b[39m\"\u001b[39m\u001b[39mpreprocessor\u001b[39m\u001b[39m\"\u001b[39m, preprocessor), (\u001b[39m\"\u001b[39m\u001b[39mclassifier\u001b[39m\u001b[39m\"\u001b[39m, LogisticRegression(random_state\u001b[39m=\u001b[39m\u001b[39m42\u001b[39m, max_iter\u001b[39m=\u001b[39m\u001b[39m1000\u001b[39m))])\n\u001b[0;32m      <a href='vscode-notebook-cell:/c%3A/Users/Admin/Desktop/Bootcamp/Python/WEEK%208/Homework/python%20week8%20hw.ipynb#ch0000020?line=3'>4</a>\u001b[0m X_train, X_test, y_train, y_test \u001b[39m=\u001b[39m train_test_split(X, y, test_size\u001b[39m=\u001b[39m\u001b[39m0.2\u001b[39m, random_state\u001b[39m=\u001b[39m\u001b[39m0\u001b[39m)\n\u001b[1;32m----> <a href='vscode-notebook-cell:/c%3A/Users/Admin/Desktop/Bootcamp/Python/WEEK%208/Homework/python%20week8%20hw.ipynb#ch0000020?line=4'>5</a>\u001b[0m X_train_trans \u001b[39m=\u001b[39m colTrans\u001b[39m.\u001b[39;49mfit_transform(X_train)\n\u001b[0;32m      <a href='vscode-notebook-cell:/c%3A/Users/Admin/Desktop/Bootcamp/Python/WEEK%208/Homework/python%20week8%20hw.ipynb#ch0000020?line=6'>7</a>\u001b[0m clf\u001b[39m.\u001b[39mfit(X_train, y_train)\n\u001b[0;32m      <a href='vscode-notebook-cell:/c%3A/Users/Admin/Desktop/Bootcamp/Python/WEEK%208/Homework/python%20week8%20hw.ipynb#ch0000020?line=7'>8</a>\u001b[0m clf\u001b[39m.\u001b[39mfit(X_train,y_train)\n",
      "File \u001b[1;32mc:\\Users\\Admin\\AppData\\Local\\Programs\\Python\\Python310\\lib\\site-packages\\sklearn\\compose\\_column_transformer.py:673\u001b[0m, in \u001b[0;36mColumnTransformer.fit_transform\u001b[1;34m(self, X, y)\u001b[0m\n\u001b[0;32m    <a href='file:///c%3A/Users/Admin/AppData/Local/Programs/Python/Python310/lib/site-packages/sklearn/compose/_column_transformer.py?line=669'>670</a>\u001b[0m \u001b[39mself\u001b[39m\u001b[39m.\u001b[39m_validate_column_callables(X)\n\u001b[0;32m    <a href='file:///c%3A/Users/Admin/AppData/Local/Programs/Python/Python310/lib/site-packages/sklearn/compose/_column_transformer.py?line=670'>671</a>\u001b[0m \u001b[39mself\u001b[39m\u001b[39m.\u001b[39m_validate_remainder(X)\n\u001b[1;32m--> <a href='file:///c%3A/Users/Admin/AppData/Local/Programs/Python/Python310/lib/site-packages/sklearn/compose/_column_transformer.py?line=672'>673</a>\u001b[0m result \u001b[39m=\u001b[39m \u001b[39mself\u001b[39;49m\u001b[39m.\u001b[39;49m_fit_transform(X, y, _fit_transform_one)\n\u001b[0;32m    <a href='file:///c%3A/Users/Admin/AppData/Local/Programs/Python/Python310/lib/site-packages/sklearn/compose/_column_transformer.py?line=674'>675</a>\u001b[0m \u001b[39mif\u001b[39;00m \u001b[39mnot\u001b[39;00m result:\n\u001b[0;32m    <a href='file:///c%3A/Users/Admin/AppData/Local/Programs/Python/Python310/lib/site-packages/sklearn/compose/_column_transformer.py?line=675'>676</a>\u001b[0m     \u001b[39mself\u001b[39m\u001b[39m.\u001b[39m_update_fitted_transformers([])\n",
      "File \u001b[1;32mc:\\Users\\Admin\\AppData\\Local\\Programs\\Python\\Python310\\lib\\site-packages\\sklearn\\compose\\_column_transformer.py:604\u001b[0m, in \u001b[0;36mColumnTransformer._fit_transform\u001b[1;34m(self, X, y, func, fitted, column_as_strings)\u001b[0m\n\u001b[0;32m    <a href='file:///c%3A/Users/Admin/AppData/Local/Programs/Python/Python310/lib/site-packages/sklearn/compose/_column_transformer.py?line=597'>598</a>\u001b[0m transformers \u001b[39m=\u001b[39m \u001b[39mlist\u001b[39m(\n\u001b[0;32m    <a href='file:///c%3A/Users/Admin/AppData/Local/Programs/Python/Python310/lib/site-packages/sklearn/compose/_column_transformer.py?line=598'>599</a>\u001b[0m     \u001b[39mself\u001b[39m\u001b[39m.\u001b[39m_iter(\n\u001b[0;32m    <a href='file:///c%3A/Users/Admin/AppData/Local/Programs/Python/Python310/lib/site-packages/sklearn/compose/_column_transformer.py?line=599'>600</a>\u001b[0m         fitted\u001b[39m=\u001b[39mfitted, replace_strings\u001b[39m=\u001b[39m\u001b[39mTrue\u001b[39;00m, column_as_strings\u001b[39m=\u001b[39mcolumn_as_strings\n\u001b[0;32m    <a href='file:///c%3A/Users/Admin/AppData/Local/Programs/Python/Python310/lib/site-packages/sklearn/compose/_column_transformer.py?line=600'>601</a>\u001b[0m     )\n\u001b[0;32m    <a href='file:///c%3A/Users/Admin/AppData/Local/Programs/Python/Python310/lib/site-packages/sklearn/compose/_column_transformer.py?line=601'>602</a>\u001b[0m )\n\u001b[0;32m    <a href='file:///c%3A/Users/Admin/AppData/Local/Programs/Python/Python310/lib/site-packages/sklearn/compose/_column_transformer.py?line=602'>603</a>\u001b[0m \u001b[39mtry\u001b[39;00m:\n\u001b[1;32m--> <a href='file:///c%3A/Users/Admin/AppData/Local/Programs/Python/Python310/lib/site-packages/sklearn/compose/_column_transformer.py?line=603'>604</a>\u001b[0m     \u001b[39mreturn\u001b[39;00m Parallel(n_jobs\u001b[39m=\u001b[39;49m\u001b[39mself\u001b[39;49m\u001b[39m.\u001b[39;49mn_jobs)(\n\u001b[0;32m    <a href='file:///c%3A/Users/Admin/AppData/Local/Programs/Python/Python310/lib/site-packages/sklearn/compose/_column_transformer.py?line=604'>605</a>\u001b[0m         delayed(func)(\n\u001b[0;32m    <a href='file:///c%3A/Users/Admin/AppData/Local/Programs/Python/Python310/lib/site-packages/sklearn/compose/_column_transformer.py?line=605'>606</a>\u001b[0m             transformer\u001b[39m=\u001b[39;49mclone(trans) \u001b[39mif\u001b[39;49;00m \u001b[39mnot\u001b[39;49;00m fitted \u001b[39melse\u001b[39;49;00m trans,\n\u001b[0;32m    <a href='file:///c%3A/Users/Admin/AppData/Local/Programs/Python/Python310/lib/site-packages/sklearn/compose/_column_transformer.py?line=606'>607</a>\u001b[0m             X\u001b[39m=\u001b[39;49m_safe_indexing(X, column, axis\u001b[39m=\u001b[39;49m\u001b[39m1\u001b[39;49m),\n\u001b[0;32m    <a href='file:///c%3A/Users/Admin/AppData/Local/Programs/Python/Python310/lib/site-packages/sklearn/compose/_column_transformer.py?line=607'>608</a>\u001b[0m             y\u001b[39m=\u001b[39;49my,\n\u001b[0;32m    <a href='file:///c%3A/Users/Admin/AppData/Local/Programs/Python/Python310/lib/site-packages/sklearn/compose/_column_transformer.py?line=608'>609</a>\u001b[0m             weight\u001b[39m=\u001b[39;49mweight,\n\u001b[0;32m    <a href='file:///c%3A/Users/Admin/AppData/Local/Programs/Python/Python310/lib/site-packages/sklearn/compose/_column_transformer.py?line=609'>610</a>\u001b[0m             message_clsname\u001b[39m=\u001b[39;49m\u001b[39m\"\u001b[39;49m\u001b[39mColumnTransformer\u001b[39;49m\u001b[39m\"\u001b[39;49m,\n\u001b[0;32m    <a href='file:///c%3A/Users/Admin/AppData/Local/Programs/Python/Python310/lib/site-packages/sklearn/compose/_column_transformer.py?line=610'>611</a>\u001b[0m             message\u001b[39m=\u001b[39;49m\u001b[39mself\u001b[39;49m\u001b[39m.\u001b[39;49m_log_message(name, idx, \u001b[39mlen\u001b[39;49m(transformers)),\n\u001b[0;32m    <a href='file:///c%3A/Users/Admin/AppData/Local/Programs/Python/Python310/lib/site-packages/sklearn/compose/_column_transformer.py?line=611'>612</a>\u001b[0m         )\n\u001b[0;32m    <a href='file:///c%3A/Users/Admin/AppData/Local/Programs/Python/Python310/lib/site-packages/sklearn/compose/_column_transformer.py?line=612'>613</a>\u001b[0m         \u001b[39mfor\u001b[39;49;00m idx, (name, trans, column, weight) \u001b[39min\u001b[39;49;00m \u001b[39menumerate\u001b[39;49m(transformers, \u001b[39m1\u001b[39;49m)\n\u001b[0;32m    <a href='file:///c%3A/Users/Admin/AppData/Local/Programs/Python/Python310/lib/site-packages/sklearn/compose/_column_transformer.py?line=613'>614</a>\u001b[0m     )\n\u001b[0;32m    <a href='file:///c%3A/Users/Admin/AppData/Local/Programs/Python/Python310/lib/site-packages/sklearn/compose/_column_transformer.py?line=614'>615</a>\u001b[0m \u001b[39mexcept\u001b[39;00m \u001b[39mValueError\u001b[39;00m \u001b[39mas\u001b[39;00m e:\n\u001b[0;32m    <a href='file:///c%3A/Users/Admin/AppData/Local/Programs/Python/Python310/lib/site-packages/sklearn/compose/_column_transformer.py?line=615'>616</a>\u001b[0m     \u001b[39mif\u001b[39;00m \u001b[39m\"\u001b[39m\u001b[39mExpected 2D array, got 1D array instead\u001b[39m\u001b[39m\"\u001b[39m \u001b[39min\u001b[39;00m \u001b[39mstr\u001b[39m(e):\n",
      "File \u001b[1;32mc:\\Users\\Admin\\AppData\\Local\\Programs\\Python\\Python310\\lib\\site-packages\\joblib\\parallel.py:1043\u001b[0m, in \u001b[0;36mParallel.__call__\u001b[1;34m(self, iterable)\u001b[0m\n\u001b[0;32m   <a href='file:///c%3A/Users/Admin/AppData/Local/Programs/Python/Python310/lib/site-packages/joblib/parallel.py?line=1033'>1034</a>\u001b[0m \u001b[39mtry\u001b[39;00m:\n\u001b[0;32m   <a href='file:///c%3A/Users/Admin/AppData/Local/Programs/Python/Python310/lib/site-packages/joblib/parallel.py?line=1034'>1035</a>\u001b[0m     \u001b[39m# Only set self._iterating to True if at least a batch\u001b[39;00m\n\u001b[0;32m   <a href='file:///c%3A/Users/Admin/AppData/Local/Programs/Python/Python310/lib/site-packages/joblib/parallel.py?line=1035'>1036</a>\u001b[0m     \u001b[39m# was dispatched. In particular this covers the edge\u001b[39;00m\n\u001b[1;32m   (...)\u001b[0m\n\u001b[0;32m   <a href='file:///c%3A/Users/Admin/AppData/Local/Programs/Python/Python310/lib/site-packages/joblib/parallel.py?line=1039'>1040</a>\u001b[0m     \u001b[39m# was very quick and its callback already dispatched all the\u001b[39;00m\n\u001b[0;32m   <a href='file:///c%3A/Users/Admin/AppData/Local/Programs/Python/Python310/lib/site-packages/joblib/parallel.py?line=1040'>1041</a>\u001b[0m     \u001b[39m# remaining jobs.\u001b[39;00m\n\u001b[0;32m   <a href='file:///c%3A/Users/Admin/AppData/Local/Programs/Python/Python310/lib/site-packages/joblib/parallel.py?line=1041'>1042</a>\u001b[0m     \u001b[39mself\u001b[39m\u001b[39m.\u001b[39m_iterating \u001b[39m=\u001b[39m \u001b[39mFalse\u001b[39;00m\n\u001b[1;32m-> <a href='file:///c%3A/Users/Admin/AppData/Local/Programs/Python/Python310/lib/site-packages/joblib/parallel.py?line=1042'>1043</a>\u001b[0m     \u001b[39mif\u001b[39;00m \u001b[39mself\u001b[39;49m\u001b[39m.\u001b[39;49mdispatch_one_batch(iterator):\n\u001b[0;32m   <a href='file:///c%3A/Users/Admin/AppData/Local/Programs/Python/Python310/lib/site-packages/joblib/parallel.py?line=1043'>1044</a>\u001b[0m         \u001b[39mself\u001b[39m\u001b[39m.\u001b[39m_iterating \u001b[39m=\u001b[39m \u001b[39mself\u001b[39m\u001b[39m.\u001b[39m_original_iterator \u001b[39mis\u001b[39;00m \u001b[39mnot\u001b[39;00m \u001b[39mNone\u001b[39;00m\n\u001b[0;32m   <a href='file:///c%3A/Users/Admin/AppData/Local/Programs/Python/Python310/lib/site-packages/joblib/parallel.py?line=1045'>1046</a>\u001b[0m     \u001b[39mwhile\u001b[39;00m \u001b[39mself\u001b[39m\u001b[39m.\u001b[39mdispatch_one_batch(iterator):\n",
      "File \u001b[1;32mc:\\Users\\Admin\\AppData\\Local\\Programs\\Python\\Python310\\lib\\site-packages\\joblib\\parallel.py:861\u001b[0m, in \u001b[0;36mParallel.dispatch_one_batch\u001b[1;34m(self, iterator)\u001b[0m\n\u001b[0;32m    <a href='file:///c%3A/Users/Admin/AppData/Local/Programs/Python/Python310/lib/site-packages/joblib/parallel.py?line=858'>859</a>\u001b[0m     \u001b[39mreturn\u001b[39;00m \u001b[39mFalse\u001b[39;00m\n\u001b[0;32m    <a href='file:///c%3A/Users/Admin/AppData/Local/Programs/Python/Python310/lib/site-packages/joblib/parallel.py?line=859'>860</a>\u001b[0m \u001b[39melse\u001b[39;00m:\n\u001b[1;32m--> <a href='file:///c%3A/Users/Admin/AppData/Local/Programs/Python/Python310/lib/site-packages/joblib/parallel.py?line=860'>861</a>\u001b[0m     \u001b[39mself\u001b[39;49m\u001b[39m.\u001b[39;49m_dispatch(tasks)\n\u001b[0;32m    <a href='file:///c%3A/Users/Admin/AppData/Local/Programs/Python/Python310/lib/site-packages/joblib/parallel.py?line=861'>862</a>\u001b[0m     \u001b[39mreturn\u001b[39;00m \u001b[39mTrue\u001b[39;00m\n",
      "File \u001b[1;32mc:\\Users\\Admin\\AppData\\Local\\Programs\\Python\\Python310\\lib\\site-packages\\joblib\\parallel.py:779\u001b[0m, in \u001b[0;36mParallel._dispatch\u001b[1;34m(self, batch)\u001b[0m\n\u001b[0;32m    <a href='file:///c%3A/Users/Admin/AppData/Local/Programs/Python/Python310/lib/site-packages/joblib/parallel.py?line=776'>777</a>\u001b[0m \u001b[39mwith\u001b[39;00m \u001b[39mself\u001b[39m\u001b[39m.\u001b[39m_lock:\n\u001b[0;32m    <a href='file:///c%3A/Users/Admin/AppData/Local/Programs/Python/Python310/lib/site-packages/joblib/parallel.py?line=777'>778</a>\u001b[0m     job_idx \u001b[39m=\u001b[39m \u001b[39mlen\u001b[39m(\u001b[39mself\u001b[39m\u001b[39m.\u001b[39m_jobs)\n\u001b[1;32m--> <a href='file:///c%3A/Users/Admin/AppData/Local/Programs/Python/Python310/lib/site-packages/joblib/parallel.py?line=778'>779</a>\u001b[0m     job \u001b[39m=\u001b[39m \u001b[39mself\u001b[39;49m\u001b[39m.\u001b[39;49m_backend\u001b[39m.\u001b[39;49mapply_async(batch, callback\u001b[39m=\u001b[39;49mcb)\n\u001b[0;32m    <a href='file:///c%3A/Users/Admin/AppData/Local/Programs/Python/Python310/lib/site-packages/joblib/parallel.py?line=779'>780</a>\u001b[0m     \u001b[39m# A job can complete so quickly than its callback is\u001b[39;00m\n\u001b[0;32m    <a href='file:///c%3A/Users/Admin/AppData/Local/Programs/Python/Python310/lib/site-packages/joblib/parallel.py?line=780'>781</a>\u001b[0m     \u001b[39m# called before we get here, causing self._jobs to\u001b[39;00m\n\u001b[0;32m    <a href='file:///c%3A/Users/Admin/AppData/Local/Programs/Python/Python310/lib/site-packages/joblib/parallel.py?line=781'>782</a>\u001b[0m     \u001b[39m# grow. To ensure correct results ordering, .insert is\u001b[39;00m\n\u001b[0;32m    <a href='file:///c%3A/Users/Admin/AppData/Local/Programs/Python/Python310/lib/site-packages/joblib/parallel.py?line=782'>783</a>\u001b[0m     \u001b[39m# used (rather than .append) in the following line\u001b[39;00m\n\u001b[0;32m    <a href='file:///c%3A/Users/Admin/AppData/Local/Programs/Python/Python310/lib/site-packages/joblib/parallel.py?line=783'>784</a>\u001b[0m     \u001b[39mself\u001b[39m\u001b[39m.\u001b[39m_jobs\u001b[39m.\u001b[39minsert(job_idx, job)\n",
      "File \u001b[1;32mc:\\Users\\Admin\\AppData\\Local\\Programs\\Python\\Python310\\lib\\site-packages\\joblib\\_parallel_backends.py:208\u001b[0m, in \u001b[0;36mSequentialBackend.apply_async\u001b[1;34m(self, func, callback)\u001b[0m\n\u001b[0;32m    <a href='file:///c%3A/Users/Admin/AppData/Local/Programs/Python/Python310/lib/site-packages/joblib/_parallel_backends.py?line=205'>206</a>\u001b[0m \u001b[39mdef\u001b[39;00m \u001b[39mapply_async\u001b[39m(\u001b[39mself\u001b[39m, func, callback\u001b[39m=\u001b[39m\u001b[39mNone\u001b[39;00m):\n\u001b[0;32m    <a href='file:///c%3A/Users/Admin/AppData/Local/Programs/Python/Python310/lib/site-packages/joblib/_parallel_backends.py?line=206'>207</a>\u001b[0m     \u001b[39m\"\"\"Schedule a func to be run\"\"\"\u001b[39;00m\n\u001b[1;32m--> <a href='file:///c%3A/Users/Admin/AppData/Local/Programs/Python/Python310/lib/site-packages/joblib/_parallel_backends.py?line=207'>208</a>\u001b[0m     result \u001b[39m=\u001b[39m ImmediateResult(func)\n\u001b[0;32m    <a href='file:///c%3A/Users/Admin/AppData/Local/Programs/Python/Python310/lib/site-packages/joblib/_parallel_backends.py?line=208'>209</a>\u001b[0m     \u001b[39mif\u001b[39;00m callback:\n\u001b[0;32m    <a href='file:///c%3A/Users/Admin/AppData/Local/Programs/Python/Python310/lib/site-packages/joblib/_parallel_backends.py?line=209'>210</a>\u001b[0m         callback(result)\n",
      "File \u001b[1;32mc:\\Users\\Admin\\AppData\\Local\\Programs\\Python\\Python310\\lib\\site-packages\\joblib\\_parallel_backends.py:572\u001b[0m, in \u001b[0;36mImmediateResult.__init__\u001b[1;34m(self, batch)\u001b[0m\n\u001b[0;32m    <a href='file:///c%3A/Users/Admin/AppData/Local/Programs/Python/Python310/lib/site-packages/joblib/_parallel_backends.py?line=568'>569</a>\u001b[0m \u001b[39mdef\u001b[39;00m \u001b[39m__init__\u001b[39m(\u001b[39mself\u001b[39m, batch):\n\u001b[0;32m    <a href='file:///c%3A/Users/Admin/AppData/Local/Programs/Python/Python310/lib/site-packages/joblib/_parallel_backends.py?line=569'>570</a>\u001b[0m     \u001b[39m# Don't delay the application, to avoid keeping the input\u001b[39;00m\n\u001b[0;32m    <a href='file:///c%3A/Users/Admin/AppData/Local/Programs/Python/Python310/lib/site-packages/joblib/_parallel_backends.py?line=570'>571</a>\u001b[0m     \u001b[39m# arguments in memory\u001b[39;00m\n\u001b[1;32m--> <a href='file:///c%3A/Users/Admin/AppData/Local/Programs/Python/Python310/lib/site-packages/joblib/_parallel_backends.py?line=571'>572</a>\u001b[0m     \u001b[39mself\u001b[39m\u001b[39m.\u001b[39mresults \u001b[39m=\u001b[39m batch()\n",
      "File \u001b[1;32mc:\\Users\\Admin\\AppData\\Local\\Programs\\Python\\Python310\\lib\\site-packages\\joblib\\parallel.py:262\u001b[0m, in \u001b[0;36mBatchedCalls.__call__\u001b[1;34m(self)\u001b[0m\n\u001b[0;32m    <a href='file:///c%3A/Users/Admin/AppData/Local/Programs/Python/Python310/lib/site-packages/joblib/parallel.py?line=257'>258</a>\u001b[0m \u001b[39mdef\u001b[39;00m \u001b[39m__call__\u001b[39m(\u001b[39mself\u001b[39m):\n\u001b[0;32m    <a href='file:///c%3A/Users/Admin/AppData/Local/Programs/Python/Python310/lib/site-packages/joblib/parallel.py?line=258'>259</a>\u001b[0m     \u001b[39m# Set the default nested backend to self._backend but do not set the\u001b[39;00m\n\u001b[0;32m    <a href='file:///c%3A/Users/Admin/AppData/Local/Programs/Python/Python310/lib/site-packages/joblib/parallel.py?line=259'>260</a>\u001b[0m     \u001b[39m# change the default number of processes to -1\u001b[39;00m\n\u001b[0;32m    <a href='file:///c%3A/Users/Admin/AppData/Local/Programs/Python/Python310/lib/site-packages/joblib/parallel.py?line=260'>261</a>\u001b[0m     \u001b[39mwith\u001b[39;00m parallel_backend(\u001b[39mself\u001b[39m\u001b[39m.\u001b[39m_backend, n_jobs\u001b[39m=\u001b[39m\u001b[39mself\u001b[39m\u001b[39m.\u001b[39m_n_jobs):\n\u001b[1;32m--> <a href='file:///c%3A/Users/Admin/AppData/Local/Programs/Python/Python310/lib/site-packages/joblib/parallel.py?line=261'>262</a>\u001b[0m         \u001b[39mreturn\u001b[39;00m [func(\u001b[39m*\u001b[39margs, \u001b[39m*\u001b[39m\u001b[39m*\u001b[39mkwargs)\n\u001b[0;32m    <a href='file:///c%3A/Users/Admin/AppData/Local/Programs/Python/Python310/lib/site-packages/joblib/parallel.py?line=262'>263</a>\u001b[0m                 \u001b[39mfor\u001b[39;00m func, args, kwargs \u001b[39min\u001b[39;00m \u001b[39mself\u001b[39m\u001b[39m.\u001b[39mitems]\n",
      "File \u001b[1;32mc:\\Users\\Admin\\AppData\\Local\\Programs\\Python\\Python310\\lib\\site-packages\\joblib\\parallel.py:262\u001b[0m, in \u001b[0;36m<listcomp>\u001b[1;34m(.0)\u001b[0m\n\u001b[0;32m    <a href='file:///c%3A/Users/Admin/AppData/Local/Programs/Python/Python310/lib/site-packages/joblib/parallel.py?line=257'>258</a>\u001b[0m \u001b[39mdef\u001b[39;00m \u001b[39m__call__\u001b[39m(\u001b[39mself\u001b[39m):\n\u001b[0;32m    <a href='file:///c%3A/Users/Admin/AppData/Local/Programs/Python/Python310/lib/site-packages/joblib/parallel.py?line=258'>259</a>\u001b[0m     \u001b[39m# Set the default nested backend to self._backend but do not set the\u001b[39;00m\n\u001b[0;32m    <a href='file:///c%3A/Users/Admin/AppData/Local/Programs/Python/Python310/lib/site-packages/joblib/parallel.py?line=259'>260</a>\u001b[0m     \u001b[39m# change the default number of processes to -1\u001b[39;00m\n\u001b[0;32m    <a href='file:///c%3A/Users/Admin/AppData/Local/Programs/Python/Python310/lib/site-packages/joblib/parallel.py?line=260'>261</a>\u001b[0m     \u001b[39mwith\u001b[39;00m parallel_backend(\u001b[39mself\u001b[39m\u001b[39m.\u001b[39m_backend, n_jobs\u001b[39m=\u001b[39m\u001b[39mself\u001b[39m\u001b[39m.\u001b[39m_n_jobs):\n\u001b[1;32m--> <a href='file:///c%3A/Users/Admin/AppData/Local/Programs/Python/Python310/lib/site-packages/joblib/parallel.py?line=261'>262</a>\u001b[0m         \u001b[39mreturn\u001b[39;00m [func(\u001b[39m*\u001b[39margs, \u001b[39m*\u001b[39m\u001b[39m*\u001b[39mkwargs)\n\u001b[0;32m    <a href='file:///c%3A/Users/Admin/AppData/Local/Programs/Python/Python310/lib/site-packages/joblib/parallel.py?line=262'>263</a>\u001b[0m                 \u001b[39mfor\u001b[39;00m func, args, kwargs \u001b[39min\u001b[39;00m \u001b[39mself\u001b[39m\u001b[39m.\u001b[39mitems]\n",
      "File \u001b[1;32mc:\\Users\\Admin\\AppData\\Local\\Programs\\Python\\Python310\\lib\\site-packages\\sklearn\\utils\\fixes.py:117\u001b[0m, in \u001b[0;36m_FuncWrapper.__call__\u001b[1;34m(self, *args, **kwargs)\u001b[0m\n\u001b[0;32m    <a href='file:///c%3A/Users/Admin/AppData/Local/Programs/Python/Python310/lib/site-packages/sklearn/utils/fixes.py?line=114'>115</a>\u001b[0m \u001b[39mdef\u001b[39;00m \u001b[39m__call__\u001b[39m(\u001b[39mself\u001b[39m, \u001b[39m*\u001b[39margs, \u001b[39m*\u001b[39m\u001b[39m*\u001b[39mkwargs):\n\u001b[0;32m    <a href='file:///c%3A/Users/Admin/AppData/Local/Programs/Python/Python310/lib/site-packages/sklearn/utils/fixes.py?line=115'>116</a>\u001b[0m     \u001b[39mwith\u001b[39;00m config_context(\u001b[39m*\u001b[39m\u001b[39m*\u001b[39m\u001b[39mself\u001b[39m\u001b[39m.\u001b[39mconfig):\n\u001b[1;32m--> <a href='file:///c%3A/Users/Admin/AppData/Local/Programs/Python/Python310/lib/site-packages/sklearn/utils/fixes.py?line=116'>117</a>\u001b[0m         \u001b[39mreturn\u001b[39;00m \u001b[39mself\u001b[39m\u001b[39m.\u001b[39mfunction(\u001b[39m*\u001b[39margs, \u001b[39m*\u001b[39m\u001b[39m*\u001b[39mkwargs)\n",
      "File \u001b[1;32mc:\\Users\\Admin\\AppData\\Local\\Programs\\Python\\Python310\\lib\\site-packages\\sklearn\\pipeline.py:870\u001b[0m, in \u001b[0;36m_fit_transform_one\u001b[1;34m(transformer, X, y, weight, message_clsname, message, **fit_params)\u001b[0m\n\u001b[0;32m    <a href='file:///c%3A/Users/Admin/AppData/Local/Programs/Python/Python310/lib/site-packages/sklearn/pipeline.py?line=867'>868</a>\u001b[0m \u001b[39mwith\u001b[39;00m _print_elapsed_time(message_clsname, message):\n\u001b[0;32m    <a href='file:///c%3A/Users/Admin/AppData/Local/Programs/Python/Python310/lib/site-packages/sklearn/pipeline.py?line=868'>869</a>\u001b[0m     \u001b[39mif\u001b[39;00m \u001b[39mhasattr\u001b[39m(transformer, \u001b[39m\"\u001b[39m\u001b[39mfit_transform\u001b[39m\u001b[39m\"\u001b[39m):\n\u001b[1;32m--> <a href='file:///c%3A/Users/Admin/AppData/Local/Programs/Python/Python310/lib/site-packages/sklearn/pipeline.py?line=869'>870</a>\u001b[0m         res \u001b[39m=\u001b[39m transformer\u001b[39m.\u001b[39mfit_transform(X, y, \u001b[39m*\u001b[39m\u001b[39m*\u001b[39mfit_params)\n\u001b[0;32m    <a href='file:///c%3A/Users/Admin/AppData/Local/Programs/Python/Python310/lib/site-packages/sklearn/pipeline.py?line=870'>871</a>\u001b[0m     \u001b[39melse\u001b[39;00m:\n\u001b[0;32m    <a href='file:///c%3A/Users/Admin/AppData/Local/Programs/Python/Python310/lib/site-packages/sklearn/pipeline.py?line=871'>872</a>\u001b[0m         res \u001b[39m=\u001b[39m transformer\u001b[39m.\u001b[39mfit(X, y, \u001b[39m*\u001b[39m\u001b[39m*\u001b[39mfit_params)\u001b[39m.\u001b[39mtransform(X)\n",
      "File \u001b[1;32mc:\\Users\\Admin\\AppData\\Local\\Programs\\Python\\Python310\\lib\\site-packages\\sklearn\\preprocessing\\_encoders.py:855\u001b[0m, in \u001b[0;36mOneHotEncoder.fit_transform\u001b[1;34m(self, X, y)\u001b[0m\n\u001b[0;32m    <a href='file:///c%3A/Users/Admin/AppData/Local/Programs/Python/Python310/lib/site-packages/sklearn/preprocessing/_encoders.py?line=832'>833</a>\u001b[0m \u001b[39m\"\"\"\u001b[39;00m\n\u001b[0;32m    <a href='file:///c%3A/Users/Admin/AppData/Local/Programs/Python/Python310/lib/site-packages/sklearn/preprocessing/_encoders.py?line=833'>834</a>\u001b[0m \u001b[39mFit OneHotEncoder to X, then transform X.\u001b[39;00m\n\u001b[0;32m    <a href='file:///c%3A/Users/Admin/AppData/Local/Programs/Python/Python310/lib/site-packages/sklearn/preprocessing/_encoders.py?line=834'>835</a>\u001b[0m \n\u001b[1;32m   (...)\u001b[0m\n\u001b[0;32m    <a href='file:///c%3A/Users/Admin/AppData/Local/Programs/Python/Python310/lib/site-packages/sklearn/preprocessing/_encoders.py?line=851'>852</a>\u001b[0m \u001b[39m    returned.\u001b[39;00m\n\u001b[0;32m    <a href='file:///c%3A/Users/Admin/AppData/Local/Programs/Python/Python310/lib/site-packages/sklearn/preprocessing/_encoders.py?line=852'>853</a>\u001b[0m \u001b[39m\"\"\"\u001b[39;00m\n\u001b[0;32m    <a href='file:///c%3A/Users/Admin/AppData/Local/Programs/Python/Python310/lib/site-packages/sklearn/preprocessing/_encoders.py?line=853'>854</a>\u001b[0m \u001b[39mself\u001b[39m\u001b[39m.\u001b[39m_validate_keywords()\n\u001b[1;32m--> <a href='file:///c%3A/Users/Admin/AppData/Local/Programs/Python/Python310/lib/site-packages/sklearn/preprocessing/_encoders.py?line=854'>855</a>\u001b[0m \u001b[39mreturn\u001b[39;00m \u001b[39msuper\u001b[39;49m()\u001b[39m.\u001b[39;49mfit_transform(X, y)\n",
      "File \u001b[1;32mc:\\Users\\Admin\\AppData\\Local\\Programs\\Python\\Python310\\lib\\site-packages\\sklearn\\base.py:867\u001b[0m, in \u001b[0;36mTransformerMixin.fit_transform\u001b[1;34m(self, X, y, **fit_params)\u001b[0m\n\u001b[0;32m    <a href='file:///c%3A/Users/Admin/AppData/Local/Programs/Python/Python310/lib/site-packages/sklearn/base.py?line=862'>863</a>\u001b[0m \u001b[39m# non-optimized default implementation; override when a better\u001b[39;00m\n\u001b[0;32m    <a href='file:///c%3A/Users/Admin/AppData/Local/Programs/Python/Python310/lib/site-packages/sklearn/base.py?line=863'>864</a>\u001b[0m \u001b[39m# method is possible for a given clustering algorithm\u001b[39;00m\n\u001b[0;32m    <a href='file:///c%3A/Users/Admin/AppData/Local/Programs/Python/Python310/lib/site-packages/sklearn/base.py?line=864'>865</a>\u001b[0m \u001b[39mif\u001b[39;00m y \u001b[39mis\u001b[39;00m \u001b[39mNone\u001b[39;00m:\n\u001b[0;32m    <a href='file:///c%3A/Users/Admin/AppData/Local/Programs/Python/Python310/lib/site-packages/sklearn/base.py?line=865'>866</a>\u001b[0m     \u001b[39m# fit method of arity 1 (unsupervised transformation)\u001b[39;00m\n\u001b[1;32m--> <a href='file:///c%3A/Users/Admin/AppData/Local/Programs/Python/Python310/lib/site-packages/sklearn/base.py?line=866'>867</a>\u001b[0m     \u001b[39mreturn\u001b[39;00m \u001b[39mself\u001b[39m\u001b[39m.\u001b[39mfit(X, \u001b[39m*\u001b[39m\u001b[39m*\u001b[39mfit_params)\u001b[39m.\u001b[39mtransform(X)\n\u001b[0;32m    <a href='file:///c%3A/Users/Admin/AppData/Local/Programs/Python/Python310/lib/site-packages/sklearn/base.py?line=867'>868</a>\u001b[0m \u001b[39melse\u001b[39;00m:\n\u001b[0;32m    <a href='file:///c%3A/Users/Admin/AppData/Local/Programs/Python/Python310/lib/site-packages/sklearn/base.py?line=868'>869</a>\u001b[0m     \u001b[39m# fit method of arity 2 (supervised transformation)\u001b[39;00m\n\u001b[0;32m    <a href='file:///c%3A/Users/Admin/AppData/Local/Programs/Python/Python310/lib/site-packages/sklearn/base.py?line=869'>870</a>\u001b[0m     \u001b[39mreturn\u001b[39;00m \u001b[39mself\u001b[39m\u001b[39m.\u001b[39mfit(X, y, \u001b[39m*\u001b[39m\u001b[39m*\u001b[39mfit_params)\u001b[39m.\u001b[39mtransform(X)\n",
      "File \u001b[1;32mc:\\Users\\Admin\\AppData\\Local\\Programs\\Python\\Python310\\lib\\site-packages\\sklearn\\preprocessing\\_encoders.py:818\u001b[0m, in \u001b[0;36mOneHotEncoder.fit\u001b[1;34m(self, X, y)\u001b[0m\n\u001b[0;32m    <a href='file:///c%3A/Users/Admin/AppData/Local/Programs/Python/Python310/lib/site-packages/sklearn/preprocessing/_encoders.py?line=799'>800</a>\u001b[0m \u001b[39m\"\"\"\u001b[39;00m\n\u001b[0;32m    <a href='file:///c%3A/Users/Admin/AppData/Local/Programs/Python/Python310/lib/site-packages/sklearn/preprocessing/_encoders.py?line=800'>801</a>\u001b[0m \u001b[39mFit OneHotEncoder to X.\u001b[39;00m\n\u001b[0;32m    <a href='file:///c%3A/Users/Admin/AppData/Local/Programs/Python/Python310/lib/site-packages/sklearn/preprocessing/_encoders.py?line=801'>802</a>\u001b[0m \n\u001b[1;32m   (...)\u001b[0m\n\u001b[0;32m    <a href='file:///c%3A/Users/Admin/AppData/Local/Programs/Python/Python310/lib/site-packages/sklearn/preprocessing/_encoders.py?line=814'>815</a>\u001b[0m \u001b[39m    Fitted encoder.\u001b[39;00m\n\u001b[0;32m    <a href='file:///c%3A/Users/Admin/AppData/Local/Programs/Python/Python310/lib/site-packages/sklearn/preprocessing/_encoders.py?line=815'>816</a>\u001b[0m \u001b[39m\"\"\"\u001b[39;00m\n\u001b[0;32m    <a href='file:///c%3A/Users/Admin/AppData/Local/Programs/Python/Python310/lib/site-packages/sklearn/preprocessing/_encoders.py?line=816'>817</a>\u001b[0m \u001b[39mself\u001b[39m\u001b[39m.\u001b[39m_validate_keywords()\n\u001b[1;32m--> <a href='file:///c%3A/Users/Admin/AppData/Local/Programs/Python/Python310/lib/site-packages/sklearn/preprocessing/_encoders.py?line=817'>818</a>\u001b[0m fit_results \u001b[39m=\u001b[39m \u001b[39mself\u001b[39;49m\u001b[39m.\u001b[39;49m_fit(\n\u001b[0;32m    <a href='file:///c%3A/Users/Admin/AppData/Local/Programs/Python/Python310/lib/site-packages/sklearn/preprocessing/_encoders.py?line=818'>819</a>\u001b[0m     X,\n\u001b[0;32m    <a href='file:///c%3A/Users/Admin/AppData/Local/Programs/Python/Python310/lib/site-packages/sklearn/preprocessing/_encoders.py?line=819'>820</a>\u001b[0m     handle_unknown\u001b[39m=\u001b[39;49m\u001b[39mself\u001b[39;49m\u001b[39m.\u001b[39;49mhandle_unknown,\n\u001b[0;32m    <a href='file:///c%3A/Users/Admin/AppData/Local/Programs/Python/Python310/lib/site-packages/sklearn/preprocessing/_encoders.py?line=820'>821</a>\u001b[0m     force_all_finite\u001b[39m=\u001b[39;49m\u001b[39m\"\u001b[39;49m\u001b[39mallow-nan\u001b[39;49m\u001b[39m\"\u001b[39;49m,\n\u001b[0;32m    <a href='file:///c%3A/Users/Admin/AppData/Local/Programs/Python/Python310/lib/site-packages/sklearn/preprocessing/_encoders.py?line=821'>822</a>\u001b[0m     return_counts\u001b[39m=\u001b[39;49m\u001b[39mself\u001b[39;49m\u001b[39m.\u001b[39;49m_infrequent_enabled,\n\u001b[0;32m    <a href='file:///c%3A/Users/Admin/AppData/Local/Programs/Python/Python310/lib/site-packages/sklearn/preprocessing/_encoders.py?line=822'>823</a>\u001b[0m )\n\u001b[0;32m    <a href='file:///c%3A/Users/Admin/AppData/Local/Programs/Python/Python310/lib/site-packages/sklearn/preprocessing/_encoders.py?line=823'>824</a>\u001b[0m \u001b[39mif\u001b[39;00m \u001b[39mself\u001b[39m\u001b[39m.\u001b[39m_infrequent_enabled:\n\u001b[0;32m    <a href='file:///c%3A/Users/Admin/AppData/Local/Programs/Python/Python310/lib/site-packages/sklearn/preprocessing/_encoders.py?line=824'>825</a>\u001b[0m     \u001b[39mself\u001b[39m\u001b[39m.\u001b[39m_fit_infrequent_category_mapping(\n\u001b[0;32m    <a href='file:///c%3A/Users/Admin/AppData/Local/Programs/Python/Python310/lib/site-packages/sklearn/preprocessing/_encoders.py?line=825'>826</a>\u001b[0m         fit_results[\u001b[39m\"\u001b[39m\u001b[39mn_samples\u001b[39m\u001b[39m\"\u001b[39m], fit_results[\u001b[39m\"\u001b[39m\u001b[39mcategory_counts\u001b[39m\u001b[39m\"\u001b[39m]\n\u001b[0;32m    <a href='file:///c%3A/Users/Admin/AppData/Local/Programs/Python/Python310/lib/site-packages/sklearn/preprocessing/_encoders.py?line=826'>827</a>\u001b[0m     )\n",
      "File \u001b[1;32mc:\\Users\\Admin\\AppData\\Local\\Programs\\Python\\Python310\\lib\\site-packages\\sklearn\\preprocessing\\_encoders.py:106\u001b[0m, in \u001b[0;36m_BaseEncoder._fit\u001b[1;34m(self, X, handle_unknown, force_all_finite, return_counts)\u001b[0m\n\u001b[0;32m    <a href='file:///c%3A/Users/Admin/AppData/Local/Programs/Python/Python310/lib/site-packages/sklearn/preprocessing/_encoders.py?line=103'>104</a>\u001b[0m         cats \u001b[39m=\u001b[39m result\n\u001b[0;32m    <a href='file:///c%3A/Users/Admin/AppData/Local/Programs/Python/Python310/lib/site-packages/sklearn/preprocessing/_encoders.py?line=104'>105</a>\u001b[0m \u001b[39melse\u001b[39;00m:\n\u001b[1;32m--> <a href='file:///c%3A/Users/Admin/AppData/Local/Programs/Python/Python310/lib/site-packages/sklearn/preprocessing/_encoders.py?line=105'>106</a>\u001b[0m     cats \u001b[39m=\u001b[39m np\u001b[39m.\u001b[39;49marray(\u001b[39mself\u001b[39;49m\u001b[39m.\u001b[39;49mcategories[i], dtype\u001b[39m=\u001b[39;49mXi\u001b[39m.\u001b[39;49mdtype)\n\u001b[0;32m    <a href='file:///c%3A/Users/Admin/AppData/Local/Programs/Python/Python310/lib/site-packages/sklearn/preprocessing/_encoders.py?line=106'>107</a>\u001b[0m     \u001b[39mif\u001b[39;00m Xi\u001b[39m.\u001b[39mdtype\u001b[39m.\u001b[39mkind \u001b[39mnot\u001b[39;00m \u001b[39min\u001b[39;00m \u001b[39m\"\u001b[39m\u001b[39mOUS\u001b[39m\u001b[39m\"\u001b[39m:\n\u001b[0;32m    <a href='file:///c%3A/Users/Admin/AppData/Local/Programs/Python/Python310/lib/site-packages/sklearn/preprocessing/_encoders.py?line=107'>108</a>\u001b[0m         sorted_cats \u001b[39m=\u001b[39m np\u001b[39m.\u001b[39msort(cats)\n",
      "\u001b[1;31mValueError\u001b[0m: invalid literal for int() with base 10: 'Male'"
     ]
    }
   ],
   "source": [
    "# clf = Pipeline(\n",
    "#     steps=[('numerical_transformer', numerical_transformer),(\"preprocessor\", preprocessor), (\"classifier\", LogisticRegression(random_state=42, max_iter=1000))])\n",
    "\n",
    "# X_train, X_test, y_train, y_test = train_test_split(X, y, test_size=0.2, random_state=0)\n",
    "# X_train_trans = colTrans.fit_transform(X_train)\n",
    "\n",
    "# clf.fit(X_train, y_train)\n",
    "# clf.fit(X_train,y_train)\n",
    "# clf.score(X_test,y_test)\n",
    "# print(\"model score: %.3f\" % clf.score(X_test, y_test))\n"
   ]
  },
  {
   "cell_type": "code",
   "execution_count": null,
   "metadata": {},
   "outputs": [],
   "source": []
  },
  {
   "cell_type": "code",
   "execution_count": null,
   "metadata": {},
   "outputs": [],
   "source": []
  }
 ],
 "metadata": {
  "interpreter": {
   "hash": "a42ccb73e7d9bfdf27e036f1d2b8b681e55fc0743cc5586bc2474d4a60f4b886"
  },
  "kernelspec": {
   "display_name": "Python 3.10.4 64-bit",
   "language": "python",
   "name": "python3"
  },
  "language_info": {
   "codemirror_mode": {
    "name": "ipython",
    "version": 3
   },
   "file_extension": ".py",
   "mimetype": "text/x-python",
   "name": "python",
   "nbconvert_exporter": "python",
   "pygments_lexer": "ipython3",
   "version": "3.10.4"
  },
  "orig_nbformat": 4
 },
 "nbformat": 4,
 "nbformat_minor": 2
}
